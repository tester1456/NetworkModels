{
 "cells": [
  {
   "cell_type": "markdown",
   "metadata": {},
   "source": [
    "**Background**\n",
    "\n",
    "Brain recordings, such as EEG and fMRI seek to characterize brain activity and connectivity. A complete understanding of the braib dynamics can lead to a much better understanding of brain pathologies and can help direct new paths into AI. Recordings seek to determine functional connectivity between the different hierarchial organizations of the brain, and this ideal representation of the brain is very important, because it can be directly mapped to brain physiology and it can directly inform us of the dynamics residing in the brain structure.\n",
    "\n",
    "Specifically, $ \\begin{equation} S = M(E(B(N,I,t))) \\end{equation}$ , where S is our recorded signal, B is the functional representation of the brain, dependent on N, the brain network, I, the input to the brain, and t, time. E is representing the mapping from the functional representation to the actual electrophysiology that encodes that information. M is representing the mapping from brain electrophysiology to the measurements achieved by recording devices.\n",
    "\n",
    "Directed Brain Network $ \\begin{equation} N = (\\vec{v},\\vec{e}) \\end{equation}$, where v correspond to vertice states, and e correspond to edge functions between vertices. v is multidimensional, can represent many hierarchial levels in the brain, such as neurons, nerve bundles, and whole regions. For neurons, the state could take into many factors, for example, location, topology of the neuron, phase/frequency of firing, number of synaptic vesicles etc.\n",
    "Brain Dynamics B: $ \\begin{equation} \\dot{v_{i}} = g(I) + \\sum_{e \\in N}{e(v_{j},v_{i},t)} \\end{equation}$\n",
    "\n",
    "*Note that there can be self directed loops where edge function* = $ \\begin{equation} e(v_{i},t) \\end{equation}$\n",
    "\n",
    "The Input signal can encapsulate input signal from the environment and internal signaling. Signals from the environement can be more directly measured (visual cues, sensory features etc.) and internal signaling is less direct, but both contain some noise and lost information.\n",
    "\n",
    "Electrophysiology E(B) maps the network state into a corresponding voltage density topology. Several electrophysiology models already exist to predict mapping of brain state to electrophysiology.\n",
    "\n",
    "M(E) is takes the measurements from the eletrophysiology. Almost total information is known about M, since it's fairly easy to measure quantities about M (location of electrodes, orientation etc.) and there is much prior information on M (hardware features, effects of filtering, postprocessing signal etc.). However this is where noise gets introduced, as devices can pick up un extraneuous or faulty information sources.\n",
    "\n",
    "Since the mapping from the functional brain to electrophysiology is fairly direct, and the functional network intrinsically contains much of the information of the brain system, the general Bayesian problem is as follows:\n",
    "   \n",
    "   *Given S,I, find N.*\n",
    "\n",
    "   However, this is a very hard problem to solve, as S and I are relatively low dimensional signals compared to N. This problem can be reworded into:\n",
    "    \n",
    "   *Given S,I, find N' where arg min C(N,N')*\n",
    "\n",
    "C is our cost function associated with our predicted and actual N , which can encapsulate closeness of behavior of the two systems. Since biological mechanisms are usually repetitive and fractal-like, giving rise to complex structures with relatively simple rulesets and the brain can be globally modulated by input signals such as drugs, DBS, and rTMS, there may be some low dimensional features that can be extracted from S that can be used to predict the behavior of N to relatively high degree.\n",
    "\n",
    "There already exist multitudes of signal features that the current literature utilizes to ascertain certain features of N, but efficacy of these features to predict functional behavior is quantitaively uncertain, and should be studies further to determine relations between the detected features and underlying brain network behavior. Underlied here is a path to quantitavely determine upper bounds on these features in describing functional network behavior.\n",
    "    \n",
    "A simple, ideal brain network B(N) with I = 0, and the network being time-invariant, was contructed. Then E was assumed to be identity functions, M was assumed to be a linear function and S was the actual signal from the time series of $ \\begin{equation} \\vec{v} \\end{equation}$. Several measures curently used in the literatrure were then tested in a Monte Carlo simulation to get upper bounds of the efficacy. The constructed model is as follows:\n",
    "\n",
    "$\\begin{equation}\n",
    "\\dot{v_{i}} = g(v_{i}) + \\sum_{e \\in N}{f(v_{j},v_{i})}\n",
    "\\end{equation}$\n",
    "\n",
    "$ \\begin{equation}\n",
    "S = M \\vec{v} + N\n",
    "\\end{equation}$\n",
    ",where N is noise\n",
    "    \n",
    "   Network: All-to-All (K), Small-World (SW), Preferential Attachment (BA)"
   ]
  },
  {
   "cell_type": "markdown",
   "metadata": {},
   "source": [
    "**Correlation Measures**\n",
    "    \n",
    "CFC: PPC, AAC, PAC\n",
    "\n",
    "Coherence: CTC, PLV\n",
    "\n",
    "Spectral: RDP, Edge, Entropy, Moment\n",
    "\n",
    "Nonlinear: Correlation Dimension/Saturation, Largest Lyapunov exponent, Kolmogorof entropy\n",
    "\n",
    "Mutual Entropy: CMI, AMI\n",
    "\n",
    "Connectivity Measures: TE, GCI, PLI, Pairwise Phase Consistency, GC, DT, PDC"
   ]
  },
  {
   "cell_type": "markdown",
   "metadata": {},
   "source": [
    "**Documentation**\n",
    "\n",
    "Classes:\n",
    "- nmodel:\n",
    "    - VARIABLES:\n",
    "        - G: graph network\n",
    "        - x: state vector (array) [node,vector_state,time_point]\n",
    "        - h: node function R^n -> R^n\n",
    "        - f: coupling function R^n -> R^n\n",
    "        - M: measurement matrix (matrix)\n",
    "        - N: variance for Gaussian noise\n",
    "        - y: measurement vector (array)\n",
    "        - t: time\n",
    "        - dt: time step\n",
    "    - FUNCTIONS:\n",
    "        - dev: IN: state, OUT: returns derivative values (array)\n",
    "        - linear_measure: IN: none, OUT: returns measurement values (array)\n",
    "        - euler_step: IN: none, OUT: none, euler approximation step\n",
    "        - runge_kutta_step: IN: none, OUT: none, 4th order runge-kutta approximation step\n",
    "        - step: IN: none, OUT: none, step call\n",
    "        - run: IN: T, OUT: none, runs model for time T\n",
    "        - clear_run: IN: none, OUT: none, clears all states exept initial\n",
    "\n",
    "Functions:\n",
    "- create_states: IN: a, b, c(if complex) = (a',b'), distribution('normal','logistic','uniform')default is point, OUT: states\n",
    "- create_vec_states: IN: array of tuples for parameters for create_states, OUT: states\n",
    "- create_network: IN: n number of nodes, network type('SW','BA','SCC','K'), parameters (k,p,m), OUT: graph G\n",
    "- multiply_graph: IN: graph G , side, nodal, edge, other, OUT: graph G' multiplied by side\n",
    "- plt_graph: IN: graph G, OUT: plot of adjacency matrix\n",
    "- state_course: IN: states (matrix), OUT: plot of states\n",
    "- spectrogram: IN: signal, fs, window, nperseg, noverlap, nfft, OUT: plot of spectrogram\n",
    "- PSD: IN: singal, fs, window, nperseg, noverlap, nfft, OUT: plot of PSD\n",
    "- cross_func: IN: states (matrix), func, OUT: matrix of coefficients\n",
    "- reduce_state: IN: states (array), OUT: slice of states with only one vector part (matrix)\n",
    "- mutual_info_score: IN:  OUT:\n",
    "- phase_locking_value: IN: x,y OUT: phase locking value\n",
    "- coh: IN: x,y OUT: coherence value\n",
    "- cor: IN: x,y OUT: correlation value"
   ]
  },
  {
   "cell_type": "code",
   "execution_count": 2,
   "metadata": {
    "collapsed": false
   },
   "outputs": [
    {
     "name": "stdout",
     "output_type": "stream",
     "text": [
      "Once deleted, variables cannot be recovered. Proceed (y/[n])? y\n"
     ]
    }
   ],
   "source": [
    "#RUN THIS BEFORE USING\n",
    "\n",
    "%reset\n",
    "%matplotlib inline\n",
    "import network_modules as nm\n",
    "import networkx as nx\n",
    "import numpy as np\n",
    "import scipy.signal as sig\n",
    "import matplotlib.pyplot as plt\n",
    "import cmath as c"
   ]
  },
  {
   "cell_type": "code",
   "execution_count": 3,
   "metadata": {
    "collapsed": false
   },
   "outputs": [
    {
     "name": "stdout",
     "output_type": "stream",
     "text": [
      "[[-0.46914659  2.          5.33839038  0.19135434]\n",
      " [ 1.7284028   2.          0.96131355  5.09559561]\n",
      " [ 2.57399994  2.          2.55153026  2.23514634]\n",
      " [ 1.41404189  2.          2.22960408  0.54709856]\n",
      " [ 1.6548625   2.          3.63221585  1.97262859]\n",
      " [ 1.42114664  2.          0.85880901  4.28408697]]\n"
     ]
    }
   ],
   "source": [
    "#Initialization\n",
    "\n",
    "distributions = [(6,1,1,'normal'),(6,2),(6,1,1,'logistic'),(6,0,6,'uniform')]\n",
    "x = nm.create_vec_states(distributions)          \n",
    "\n",
    "G = nm.create_network('SCC') #Basic Graph\n",
    "\n",
    "def h(x):   #node function\n",
    "    return 0\n",
    "\n",
    "def f(x,y): #coupling function\n",
    "    return y-x\n",
    "\n",
    "M = np.identity(6) #Measurement Matrix\n",
    "\n",
    "N = 1 #Noise Variance\n",
    "\n",
    "#Initialize & Run model for t = 10 sec\n",
    "nmod = nm.nmodel(G,x,h,f,M,N)\n",
    "nmod.run(10)"
   ]
  },
  {
   "cell_type": "code",
   "execution_count": 3,
   "metadata": {
    "collapsed": false
   },
   "outputs": [
    {
     "data": {
      "text/plain": [
       "matrix([[ 1.        ,  0.99179288,  0.97552939,  0.95667491,  0.86287535,\n",
       "          0.96550983],\n",
       "        [ 0.99179288,  1.        ,  0.99000881,  0.95909508,  0.83580317,\n",
       "          0.96669234],\n",
       "        [ 0.97552939,  0.99000881,  1.        ,  0.9775481 ,  0.85582013,\n",
       "          0.98142522],\n",
       "        [ 0.95667491,  0.95909508,  0.9775481 ,  1.        ,  0.91456535,\n",
       "          0.99925961],\n",
       "        [ 0.86287535,  0.83580317,  0.85582013,  0.91456535,  1.        ,\n",
       "          0.90743555],\n",
       "        [ 0.96550983,  0.96669234,  0.98142522,  0.99925961,  0.90743555,\n",
       "          1.        ]])"
      ]
     },
     "execution_count": 3,
     "metadata": {},
     "output_type": "execute_result"
    }
   ],
   "source": [
    "y = nm.reduce_state(0, nmod.x)\n",
    "nm.cross_func(y,nm.phase_locking_value)"
   ]
  }
 ],
 "metadata": {
  "anaconda-cloud": {},
  "kernelspec": {
   "display_name": "Python [conda root]",
   "language": "python",
   "name": "conda-root-py"
  },
  "language_info": {
   "codemirror_mode": {
    "name": "ipython",
    "version": 3
   },
   "file_extension": ".py",
   "mimetype": "text/x-python",
   "name": "python",
   "nbconvert_exporter": "python",
   "pygments_lexer": "ipython3",
   "version": "3.5.2"
  }
 },
 "nbformat": 4,
 "nbformat_minor": 1
}
