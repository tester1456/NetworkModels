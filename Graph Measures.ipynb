{
 "cells": [
  {
   "cell_type": "code",
   "execution_count": 1,
   "metadata": {
    "collapsed": false
   },
   "outputs": [
    {
     "name": "stdout",
     "output_type": "stream",
     "text": [
      "Once deleted, variables cannot be recovered. Proceed (y/[n])? y\n"
     ]
    }
   ],
   "source": [
    "#RUN THIS BEFORE USING\n",
    "%reset\n",
    "%matplotlib inline\n",
    "import network_modules as nm\n",
    "import graph_measures as gm\n",
    "import numpy as np\n",
    "import matplotlib.pyplot as plt\n",
    "import ipywidgets as widgets\n",
    "from __future__ import print_function\n",
    "from ipywidgets import interact, interactive, fixed, interact_manual\n",
    "from IPython.display import display\n",
    "import networkx as nx\n",
    "import collections\n",
    "import scipy.signal as sig"
   ]
  },
  {
   "cell_type": "code",
   "execution_count": null,
   "metadata": {
    "collapsed": false
   },
   "outputs": [],
   "source": [
    "slider1 = widgets.IntSlider(min=50, max=5000, step=50, value= 50, description = 'n')\n",
    "slider2 = widgets.IntSlider(min=1, max=10, value=1, description = 'm')\n",
    "slider3 = widgets.FloatSlider(min=0, max=10, value=1, description = 'a')\n",
    "slider4 = widgets.FloatSlider(min=0, max=2*np.pi, value=0, description = 'b')\n",
    "slider5 = widgets.FloatSlider(min=0, max=1, value=0, description = 'c')\n",
    "slider6 = widgets.FloatSlider(min=0, max=10, value=1, description = 'K')\n",
    "display(slider1, slider2, slider3, slider4, slider5,slider6)"
   ]
  },
  {
   "cell_type": "code",
   "execution_count": null,
   "metadata": {
    "collapsed": false
   },
   "outputs": [],
   "source": [
    "n = slider1.value\n",
    "m = slider2.value\n",
    "print('n = ',n)\n",
    "print('m = ',m)\n",
    "G = nx.barabasi_albert_graph(n, m)"
   ]
  },
  {
   "cell_type": "code",
   "execution_count": null,
   "metadata": {
    "collapsed": false
   },
   "outputs": [],
   "source": [
    "gm.degree_distribution(G)"
   ]
  },
  {
   "cell_type": "code",
   "execution_count": null,
   "metadata": {
    "collapsed": false
   },
   "outputs": [],
   "source": [
    "#Parameter Initialization\n",
    "\n",
    "distributions = [(n,0,2*np.pi,'uniform'),(n,10,2,'normal')]\n",
    "states = nm.create_vec_states(distributions)\n",
    "z = np.cos(states[:,0]) + 1j * np.sin(states[:,0])\n",
    "w = 1j * states[:,1]\n",
    "x = [[a,b] for a,b in zip(z,w)]\n",
    "\n",
    "def currynode(w):\n",
    "    def node(x):   #node function\n",
    "        return np.array([1j * x[0] * w + x[0]*(1-abs(x[0])),0*1j]) # apply limit cycle term to keep in a circle\n",
    "    return node\n",
    "\n",
    "h = [currynode(w) for w in states[:,1]]\n",
    "\n",
    "def f(x,y): #coupling function\n",
    "    a = slider3.value\n",
    "    b = slider4.value\n",
    "    c = slider5.value\n",
    "    K = slider6.value\n",
    "    phi = np.angle(y[0])-np.angle(x[0])\n",
    "    return np.array([1j * x[0] * complex(K*(np.sin(a*phi+b)+c),0),0*1j])\n",
    "\n",
    "M = np.identity(n) #Measurement Matrix\n",
    "N = 0 #Noise Variance\n",
    "\n",
    "oscillator = nm.nmodel(G,x,h,f,M,N,dt=.01)\n",
    "oscillator.run(10)\n",
    "nm.state_course(np.real(nm.reduce_state(0,oscillator.x)))"
   ]
  },
  {
   "cell_type": "code",
   "execution_count": null,
   "metadata": {
    "collapsed": false,
    "scrolled": false
   },
   "outputs": [],
   "source": [
    "nm.plt_graph(oscillator.G)\n",
    "plt.figure()\n",
    "x = gm.cross_func(nm.reduce_state(0,oscillator.x),gm.phase_synchrony)\n",
    "plt.imshow(x, interpolation= \"nearest\")\n"
   ]
  },
  {
   "cell_type": "code",
   "execution_count": null,
   "metadata": {
    "collapsed": false
   },
   "outputs": [],
   "source": [
    "def frange(start, stop, step):  \n",
    "    i = start\n",
    "    while i < stop:\n",
    "        yield i\n",
    "        i += step\n",
    "        \n",
    "@interact(off = (0.0,2*np.pi))\n",
    "def f(off):\n",
    "    x = np.array([np.cos(x) + 1j*np.sin(x) for x in frange(0,4*np.pi,.1)])\n",
    "    y = np.array([np.cos(x + off) + 1j*np.sin(x + off) for x in frange(0,4*np.pi,.1)])\n",
    "    plt.figure()\n",
    "    plt.plot(np.array(x)[0])\n",
    "    plt.plot(np.array(y)[0])\n",
    "    plt.show()\n",
    "    print(gm.correlation(x,y))\n",
    "    "
   ]
  },
  {
   "cell_type": "code",
   "execution_count": null,
   "metadata": {
    "collapsed": false
   },
   "outputs": [],
   "source": [
    "#f, t, s = sig.spectrogram(signal, fs = 1000, window, nperseg, noverlap, nfft)\n",
    "#f, Pxx = sig.welch(signal, fs = 1000, window, nperseg, noverlap, nfft)\n",
    "#import pywt\n",
    "#cA, cD = pywt.dwt([1, 2, 3, 4], 'db1') - Direct Wavelet Transform"
   ]
  },
  {
   "cell_type": "code",
   "execution_count": null,
   "metadata": {
    "collapsed": true
   },
   "outputs": [],
   "source": [
    "def create_random_matrix(n,p):\n",
    "    A = np.zeros((n,n))\n",
    "    for i in range(n):\n",
    "        A[i,i] = 0\n",
    "        for j in range(i+1,n):\n",
    "            if random() < p:\n",
    "                A[i,j] = 1\n",
    "                A[j,i] = 1\n",
    "    return A\n",
    "n = 5\n",
    "N = 10000\n",
    "d = []\n",
    "for m in range(N):\n",
    "    A = create_random_matrix(n,.5)\n",
    "    B = create_random_matrix(n,.5)\n",
    "    d.append(sum(sum(A))/n**2)\n",
    "plt.figure()\n",
    "plt.hist(d,100)\n",
    "plt.xlim(0,1)\n",
    "plt.show()"
   ]
  },
  {
   "cell_type": "code",
   "execution_count": null,
   "metadata": {
    "collapsed": false
   },
   "outputs": [],
   "source": [
    "def offset_sinusoid(off,compare):\n",
    "    x = np.array([np.cos(x) + 1j*np.sin(x) for x in frange(0,4*np.pi,.1)])\n",
    "    y = np.array([np.cos(x + off) + 1j*np.sin(x + off) for x in frange(0,4*np.pi,.1)])\n",
    "    return compare(x,y)\n",
    "diff = []\n",
    "for off in frange(0,2*np.pi,.1):\n",
    "    diff.append(offset_sinusoid(off,gm.phase_synchrony))\n",
    "plt.figure()\n",
    "phase = [x for x in frange(0,2*np.pi,.1)] \n",
    "plt.plot(phase,np.real(diff))\n",
    "plt.plot(phase,np.imag(diff))\n",
    "plt.show()"
   ]
  },
  {
   "cell_type": "code",
   "execution_count": 84,
   "metadata": {
    "collapsed": false,
    "scrolled": false
   },
   "outputs": [
    {
     "data": {
      "image/png": "[encoded data removed]",
      "text/plain": [
       "<matplotlib.figure.Figure at 0x14bf9f0>"
      ]
     },
     "metadata": {},
     "output_type": "display_data"
    },
    {
     "name": "stdout",
     "output_type": "stream",
     "text": [
      "[[ 0.          0.14170525  0.16207965  0.21039604  0.15830482  0.15562533]\n",
      " [ 0.11861322  0.          0.13031913  0.1727411   0.12917386  0.12762697]\n",
      " [ 0.72275856  0.73288877  0.          0.78439071  0.54377742  0.59067019]\n",
      " [ 0.58751609  0.58350346  0.79031533  0.          0.72748712  0.69969909]\n",
      " [ 0.32427383  0.32120076  0.47762021  0.54595211  0.          0.40494389]\n",
      " [ 0.07083184  0.07010031  0.10724037  0.12077916  0.09468924  0.        ]]\n"
     ]
    }
   ],
   "source": [
    "coherence = lambda X,Y: max(sig.coherence(X,Y)[1])\n",
    "nodes = [0,1,2,3,4,5]\n",
    "Graphh = nx.Graph()\n",
    "Graphh.add_nodes_from(nodes)\n",
    "Graphh.add_edges_from([(0,1)])\n",
    "def h(x):\n",
    "    return -x*np.sin(x)\n",
    "def f(x,y):\n",
    "    return y\n",
    "Matrix = np.identity(6)\n",
    "Noise = 0\n",
    "state = [[1],[2],[3],[4],[5],[6]]\n",
    "tester = nm.nmodel(Graphh,state,h,f,Matrix,Noise,dt=.01)\n",
    "tester.run(3)\n",
    "nm.state_course(tester.x[:,0,:])\n",
    "#print(gm.cross_func(tester.x[:,0,:], gm.correlation))\n",
    "print(PDC_func(tester.x[:,0,:]))\n",
    "#print(gm.partial_method(tester.x[:,0,:],gm.r2))"
   ]
  },
  {
   "cell_type": "code",
   "execution_count": null,
   "metadata": {
    "collapsed": true
   },
   "outputs": [],
   "source": []
  }
 ],
 "metadata": {
  "anaconda-cloud": {},
  "kernelspec": {
   "display_name": "Python [conda root]",
   "language": "python",
   "name": "conda-root-py"
  },
  "language_info": {
   "codemirror_mode": {
    "name": "ipython",
    "version": 3
   },
   "file_extension": ".py",
   "mimetype": "text/x-python",
   "name": "python",
   "nbconvert_exporter": "python",
   "pygments_lexer": "ipython3",
   "version": "3.5.2"
  }
 },
 "nbformat": 4,
 "nbformat_minor": 1
}
