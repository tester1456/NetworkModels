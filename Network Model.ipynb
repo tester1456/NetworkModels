{
 "cells": [
  {
   "cell_type": "code",
   "execution_count": 1,
   "metadata": {},
   "outputs": [
    {
     "name": "stdout",
     "output_type": "stream",
     "text": [
      "Once deleted, variables cannot be recovered. Proceed (y/[n])? y\n"
     ]
    }
   ],
   "source": [
    "%reset\n",
    "%matplotlib inline\n",
    "import networkx as nx\n",
    "import numpy as np\n",
    "import scipy.signal as sig\n",
    "import matplotlib.pyplot as plt\n",
    "import cmath as c"
   ]
  },
  {
   "cell_type": "markdown",
   "metadata": {},
   "source": [
    "**Gaussian Network Model**\n",
    "\n",
    "Describes network interactions in complex phase,amplitude, freq state space. Interactions are modulated by elastic interactions between nodes."
   ]
  },
  {
   "cell_type": "code",
   "execution_count": 2,
   "metadata": {
    "collapsed": true
   },
   "outputs": [],
   "source": [
    "class NetworkModel:\n",
    "    def __init__(self, G, dt = .05):\n",
    "        self.G = G #Graph representation of network\n",
    "        self.states = np.matrix([1,1,1,1,1,1]).T\n",
    "        self.t = 0 #time\n",
    "        self.dt = dt #time step\n",
    "    \n",
    "    #Kuramoto differential equation\n",
    "    def phase_dev(self,phase):\n",
    "        pass\n",
    "    \n",
    "    #euler method approximation of behavior\n",
    "    def euler_step(self):\n",
    "        new_state = self.states[:,-1] + self.phase_dev(self.states[:,-1])*self.dt\n",
    "        new_state = new_state % (2 * np.pi)\n",
    "        self.t += self.dt\n",
    "        self.states = np.hstack((self.states,new_state))\n",
    "       \n",
    "    #runge-Kutta approximation of behavior\n",
    "    def runge_kutta_step(self):\n",
    "        k1 = self.phase_dev(self.states[:,-1])*self.dt\n",
    "        k2 = self.phase_dev(self.states[:,-1]+ .5*k1)*self.dt\n",
    "        k3 = self.phase_dev(self.states[:,-1]+ .5*k2)*self.dt\n",
    "        k4 = self.phase_dev(self.states[:,-1]+ k3)*self.dt\n",
    "        new_state = self.states[:,-1] + (k1+ 2*k2 + 2*k3 + k4)/6\n",
    "        new_state = new_state % (2 * np.pi)\n",
    "        self.t += self.dt\n",
    "        self.states = np.hstack((self.states,new_state))\n",
    "    \n",
    "    #time step function\n",
    "    def step(self):\n",
    "        self.euler_step()"
   ]
  },
  {
   "cell_type": "code",
   "execution_count": 3,
   "metadata": {},
   "outputs": [
    {
     "name": "stderr",
     "output_type": "stream",
     "text": [
      "/usr/lib/python3.6/site-packages/networkx/drawing/nx_pylab.py:126: MatplotlibDeprecationWarning: pyplot.hold is deprecated.\n",
      "    Future behavior will be consistent with the long-time default:\n",
      "    plot commands add elements without first clearing the\n",
      "    Axes and/or Figure.\n",
      "  b = plt.ishold()\n",
      "/usr/lib/python3.6/site-packages/networkx/drawing/nx_pylab.py:138: MatplotlibDeprecationWarning: pyplot.hold is deprecated.\n",
      "    Future behavior will be consistent with the long-time default:\n",
      "    plot commands add elements without first clearing the\n",
      "    Axes and/or Figure.\n",
      "  plt.hold(b)\n",
      "/usr/lib/python3.6/site-packages/matplotlib/__init__.py:917: UserWarning: axes.hold is deprecated. Please remove it from your matplotlibrc and/or style files.\n",
      "  warnings.warn(self.msg_depr_set % key)\n",
      "/usr/lib/python3.6/site-packages/matplotlib/rcsetup.py:152: UserWarning: axes.hold is deprecated, will be removed in 3.0\n",
      "  warnings.warn(\"axes.hold is deprecated, will be removed in 3.0\")\n"
     ]
    },
    {
     "data": {
      "image/png": "[encoded data removed]",
      "text/plain": [
       "<matplotlib.figure.Figure at 0x7f1e5f7bfd68>"
      ]
     },
     "metadata": {},
     "output_type": "display_data"
    }
   ],
   "source": [
    "nodes = [1,2,3,4,5,6]\n",
    "G = nx.Graph()\n",
    "G.add_nodes_from(nodes)\n",
    "G.add_edges_from([(1,2,{'w':[1,2,3]}),(2,3,{'w':[1,2,3]}),(1,6,{'w':[1,2,3]}),(1,3,{'w':[1,2,3]}),(3,4,{'w':[1,2,3]}),\n",
    "                  (4,5,{'w':[1,2,3]}),(4,6,{'w':[1,2,3]}),(5,6,{'w':[1,2,3]})])\n",
    "\n",
    "\n",
    "#Quick plot of G\n",
    "nx.draw(G)"
   ]
  }
 ],
 "metadata": {
  "anaconda-cloud": {},
  "kernelspec": {
   "display_name": "Python 3",
   "language": "python",
   "name": "python3"
  },
  "language_info": {
   "codemirror_mode": {
    "name": "ipython",
    "version": 3
   },
   "file_extension": ".py",
   "mimetype": "text/x-python",
   "name": "python",
   "nbconvert_exporter": "python",
   "pygments_lexer": "ipython3",
   "version": "3.6.1"
  }
 },
 "nbformat": 4,
 "nbformat_minor": 1
}
