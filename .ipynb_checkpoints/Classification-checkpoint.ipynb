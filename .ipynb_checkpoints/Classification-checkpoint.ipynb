{
 "cells": [
  {
   "cell_type": "code",
   "execution_count": 8,
   "metadata": {
    "collapsed": false
   },
   "outputs": [
    {
     "name": "stdout",
     "output_type": "stream",
     "text": [
      "\n",
      "Training With Alpha:0.001\n",
      "[[ 0.51470379]\n",
      " [-0.4503008 ]\n",
      " [-0.37937238]\n",
      " [ 0.64138271]]\n",
      "Error after 0 iterations:0.496439922501\n",
      "\n",
      "Training With Alpha:0.01\n",
      "[[ 0.51470379]\n",
      " [-0.4503008 ]\n",
      " [-0.37937238]\n",
      " [ 0.64138271]]\n",
      "Error after 0 iterations:0.496439922501\n",
      "\n",
      "Training With Alpha:0.1\n",
      "[[ 0.51470379]\n",
      " [-0.4503008 ]\n",
      " [-0.37937238]\n",
      " [ 0.64138271]]\n",
      "Error after 0 iterations:0.496439922501\n",
      "\n",
      "Training With Alpha:1\n",
      "[[ 0.51470379]\n",
      " [-0.4503008 ]\n",
      " [-0.37937238]\n",
      " [ 0.64138271]]\n",
      "Error after 0 iterations:0.496439922501\n",
      "\n",
      "Training With Alpha:10\n",
      "[[ 0.51470379]\n",
      " [-0.4503008 ]\n",
      " [-0.37937238]\n",
      " [ 0.64138271]]\n",
      "Error after 0 iterations:0.496439922501\n",
      "\n",
      "Training With Alpha:100\n",
      "[[ 0.51470379]\n",
      " [-0.4503008 ]\n",
      " [-0.37937238]\n",
      " [ 0.64138271]]\n",
      "Error after 0 iterations:0.496439922501\n",
      "\n",
      "Training With Alpha:1000\n",
      "[[ 0.51470379]\n",
      " [-0.4503008 ]\n",
      " [-0.37937238]\n",
      " [ 0.64138271]]\n",
      "Error after 0 iterations:0.496439922501\n"
     ]
    }
   ],
   "source": [
    "import numpy as np\n",
    "\n",
    "alphas = [0.001,0.01,0.1,1,10,100,1000]\n",
    "hiddenSize = 32\n",
    " \n",
    "# compute sigmoid nonlinearity\n",
    "def sigmoid(x):\n",
    "    output = 1/(1+np.exp(-x))\n",
    "    return output\n",
    " \n",
    "# convert output of sigmoid function to its derivative\n",
    "def sigmoid_output_to_derivative(output):\n",
    "    return output*(1-output)\n",
    " \n",
    "X = np.array([[0,0,1],[0,1,1],[1,0,1],[1,1,1]]) \n",
    "y = np.array([[0],[1],[1],[0]])\n",
    " \n",
    "for alpha in alphas:\n",
    "    print(\"\\nTraining With Alpha:\" + str(alpha))\n",
    "    np.random.seed(1)\n",
    "\n",
    "    # randomly initialize our weights with mean 0\n",
    "    synapse_0 = 2*np.random.random((3,hiddenSize)) - 1\n",
    "    synapse_1 = 2*np.random.random((hiddenSize,1)) - 1\n",
    "\n",
    "    for j in range(1):\n",
    "        # Feed forward through layers 0, 1, and 2\n",
    "        layer_0 = X\n",
    "        layer_1 = sigmoid(np.dot(layer_0,synapse_0))\n",
    "        layer_2 = sigmoid(np.dot(layer_1,synapse_1))\n",
    "\n",
    "        # how much did we miss the target value?\n",
    "        layer_2_error = cost_function(X,y)\n",
    "\n",
    "        if (j% 10000) == 0:\n",
    "            print(\"Error after \" + str(j) + \" iterations:\" + str(np.mean(np.abs(layer_2_error))))\n",
    "\n",
    "        # in what direction is the target value?\n",
    "        # were we really sure? if so, don't change too much.\n",
    "        layer_2_delta = layer_2_error*sigmoid_output_to_derivative(layer_2)\n",
    "\n",
    "        # how much did each l1 value contribute to the l2 error (according to the weights)?\n",
    "        layer_1_error = layer_2_delta.dot(synapse_1.T)\n",
    "\n",
    "        # in what direction is the target l1?\n",
    "        # were we really sure? if so, don't change too much.\n",
    "        layer_1_delta = layer_1_error * sigmoid_output_to_derivative(layer_1)\n",
    "\n",
    "        synapse_1 -= alpha * (layer_1.T.dot(layer_2_delta))\n",
    "        synapse_0 -= alpha * (layer_0.T.dot(layer_1_delta))"
   ]
  },
  {
   "cell_type": "code",
   "execution_count": null,
   "metadata": {
    "collapsed": true
   },
   "outputs": [],
   "source": [
    "#simulated annealing or gradient descent function"
   ]
  }
 ],
 "metadata": {
  "anaconda-cloud": {},
  "kernelspec": {
   "display_name": "Python [conda root]",
   "language": "python",
   "name": "conda-root-py"
  },
  "language_info": {
   "codemirror_mode": {
    "name": "ipython",
    "version": 3
   },
   "file_extension": ".py",
   "mimetype": "text/x-python",
   "name": "python",
   "nbconvert_exporter": "python",
   "pygments_lexer": "ipython3",
   "version": "3.5.2"
  }
 },
 "nbformat": 4,
 "nbformat_minor": 1
}
