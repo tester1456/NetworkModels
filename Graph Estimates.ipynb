{
 "cells": [
  {
   "cell_type": "code",
   "execution_count": 3,
   "metadata": {
    "collapsed": false
   },
   "outputs": [
    {
     "name": "stdout",
     "output_type": "stream",
     "text": [
      "Once deleted, variables cannot be recovered. Proceed (y/[n])? y\n"
     ]
    }
   ],
   "source": [
    "#RUN THIS BEFORE USING\n",
    "%reset\n",
    "%matplotlib inline\n",
    "import network_modules as nm\n",
    "import numpy as np\n",
    "import matplotlib.pyplot as plt"
   ]
  },
  {
   "cell_type": "code",
   "execution_count": 100,
   "metadata": {
    "collapsed": false
   },
   "outputs": [
    {
     "name": "stdout",
     "output_type": "stream",
     "text": [
      "0.741421356237\n"
     ]
    }
   ],
   "source": [
    "# Equality Functions: Measures grah similarity\n",
    "\n",
    "def jaccard(A, B):\n",
    "    A = A.tolist()\n",
    "    B = B.tolist()\n",
    "    andsum = sum([sum([i and j for i,j in zip(a,b)]) for a,b in zip(A,B)])\n",
    "    orsum = sum([sum([i or j for i,j in zip(a,b)]) for a,b in zip(A,B)])\n",
    "    return andsum/orsum\n",
    "\n",
    "def cosine(A,B):\n",
    "    A = A.tolist()\n",
    "    B = B.tolist()\n",
    "    mag = lambda x: np.sqrt(np.dot(x,x))\n",
    "    return 1 - (sum([1 - (np.dot(a,b)/(mag(a)*mag(b))) for a,b in zip(A,B)])/len(A))\n",
    "\n",
    "def distance(A,B):\n",
    "    dis = sum([sum(x) for x in abs(A-B).tolist()])\n",
    "    return 1 - (dis/len(A))**2"
   ]
  },
  {
   "cell_type": "code",
   "execution_count": null,
   "metadata": {
    "collapsed": true
   },
   "outputs": [],
   "source": [
    "#runs functions across all signals and outputs matrix of results\n",
    "def cross_func(states, func):\n",
    "    M = np.zeros((len(states), len(states)))\n",
    "    for i in range(len(states)):\n",
    "        for j in range(len(states)):\n",
    "            M[i,j] = func(states[i,:],states[j,:])\n",
    "    return np.matrix(M)"
   ]
  },
  {
   "cell_type": "code",
   "execution_count": null,
   "metadata": {
    "collapsed": true
   },
   "outputs": [],
   "source": [
    "#Source: https://github.com/scikit-learn/scikit-learn/blob/14031f6/sklearn/metrics/cluster/supervised.py#L531\n",
    "#Mutual Information "
   ]
  },
  {
   "cell_type": "code",
   "execution_count": null,
   "metadata": {
    "collapsed": true
   },
   "outputs": [],
   "source": [
    "#PLV\n",
    "def phase_locking_value(x,y):\n",
    "    complex_phase_diff = np.exp(np.complex(0,1)*(x - y))\n",
    "    plv = np.abs(np.sum(complex_phase_diff))/len(x)\n",
    "    return plv"
   ]
  },
  {
   "cell_type": "code",
   "execution_count": null,
   "metadata": {
    "collapsed": true
   },
   "outputs": [],
   "source": [
    "#correlation\n",
    "cor = np.correlate"
   ]
  },
  {
   "cell_type": "code",
   "execution_count": null,
   "metadata": {
    "collapsed": true
   },
   "outputs": [],
   "source": [
    "#coherence\n",
    "coh = lambda x,y: np.mean(sig.coherence(x,y)[1])"
   ]
  },
  {
   "cell_type": "code",
   "execution_count": null,
   "metadata": {
    "collapsed": true
   },
   "outputs": [],
   "source": [
    "#Nonlinear measures\n",
    "#import nolds.sampen as as sp\n",
    "#import nolds.corr_dim as cd\n",
    "#import nolds.lyap_r as lp"
   ]
  },
  {
   "cell_type": "code",
   "execution_count": null,
   "metadata": {
    "collapsed": true
   },
   "outputs": [],
   "source": [
    "#Granger Causality\n",
    "#import nitime.analysis.granger as GC"
   ]
  }
 ],
 "metadata": {
  "kernelspec": {
   "display_name": "Python [conda root]",
   "language": "python",
   "name": "conda-root-py"
  },
  "language_info": {
   "codemirror_mode": {
    "name": "ipython",
    "version": 3
   },
   "file_extension": ".py",
   "mimetype": "text/x-python",
   "name": "python",
   "nbconvert_exporter": "python",
   "pygments_lexer": "ipython3",
   "version": "3.5.2"
  }
 },
 "nbformat": 4,
 "nbformat_minor": 1
}
